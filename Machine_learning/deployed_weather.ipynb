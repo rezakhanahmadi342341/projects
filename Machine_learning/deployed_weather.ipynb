{
  "nbformat": 4,
  "nbformat_minor": 0,
  "metadata": {
    "colab": {
      "provenance": [],
      "mount_file_id": "121tHE2B7zFxoJW8KlIcv3L2IjQI7D1I7",
      "authorship_tag": "ABX9TyN1DGEpByIRqTjCg2i3on3C",
      "include_colab_link": true
    },
    "kernelspec": {
      "name": "python3",
      "display_name": "Python 3"
    },
    "language_info": {
      "name": "python"
    }
  },
  "cells": [
    {
      "cell_type": "markdown",
      "metadata": {
        "id": "view-in-github",
        "colab_type": "text"
      },
      "source": [
        "<a href=\"https://colab.research.google.com/github/rezakhanahmadi342341/projects/blob/main/deployed_weather.ipynb\" target=\"_parent\"><img src=\"https://colab.research.google.com/assets/colab-badge.svg\" alt=\"Open In Colab\"/></a>"
      ]
    },
    {
      "cell_type": "code",
      "source": [
        "import datetime\n",
        "import pandas as pd\n",
        "import numpy as np\n",
        "import joblib\n",
        "from sklearn.preprocessing import StandardScaler, LabelEncoder\n",
        "\n",
        "# Load the pre-trained model, scaler, and label encoder\n",
        "model = joblib.load('/content/weather_pre.pkl')\n",
        "scale = joblib.load('/content/scale.pkl')  # Ensure the correct path\n",
        "label_encoder = joblib.load('/content/label_encoder.pkl')\n",
        "x = joblib.load('/content/x.pkl')\n",
        "\n",
        "# Deployment logic for new predictions\n",
        "def deploy_model():\n",
        "    try:\n",
        "        # User input\n",
        "        date_input = input('Please enter the date (D-M-Y): ')\n",
        "        date = datetime.datetime.strptime(date_input, '%d-%m-%Y').strftime('%Y-%m-%d')\n",
        "        temp_max = float(input('Please enter the max temperature: '))\n",
        "        temp_min = float(input('Please enter the min temperature: '))\n",
        "        precipitation = float(input('Please enter the precipitation: '))\n",
        "        wind = float(input('Please enter the wind speed: '))\n",
        "\n",
        "        # Create a new data point\n",
        "        data_point = pd.DataFrame(\n",
        "            [[temp_max, temp_min, precipitation, wind]],\n",
        "            columns=['temp_max', 'temp_min', 'precipitation', 'wind']\n",
        "        )\n",
        "\n",
        "        data_point = data_point[x.columns]\n",
        "\n",
        "        # Scale the data point\n",
        "        scaled_data_point = scale.transform(data_point)\n",
        "\n",
        "        # Predict the weather\n",
        "        prediction = model.predict(scaled_data_point)\n",
        "        predicted_weather = label_encoder.inverse_transform(prediction)\n",
        "\n",
        "        # Output the result\n",
        "        print(f\"Prediction for {date}: {predicted_weather[0]}\")\n",
        "\n",
        "    except ValueError as e:\n",
        "        print(f\"Invalid input: {e}\")\n",
        "    except Exception as e:\n",
        "        print(f\"An error occurred: {e}\")\n",
        "\n",
        "# Run the deployment function\n",
        "deploy_model()\n"
      ],
      "metadata": {
        "colab": {
          "base_uri": "https://localhost:8080/"
        },
        "id": "_POn7kqT3eu-",
        "outputId": "944a08ad-759e-4403-9f5e-2480ffde0153"
      },
      "execution_count": 11,
      "outputs": [
        {
          "output_type": "stream",
          "name": "stdout",
          "text": [
            "Please enter the date (D-M-Y): 12-12-2024\n",
            "Please enter the max temperature: 12\n",
            "Please enter the min temperature: 12\n",
            "Please enter the precipitation: 12\n",
            "Please enter the wind speed: 12\n",
            "Prediction for 2024-12-12: rain\n"
          ]
        },
        {
          "output_type": "stream",
          "name": "stderr",
          "text": [
            "/usr/local/lib/python3.10/dist-packages/sklearn/base.py:493: UserWarning: X does not have valid feature names, but RandomForestClassifier was fitted with feature names\n",
            "  warnings.warn(\n"
          ]
        }
      ]
    }
  ]
}